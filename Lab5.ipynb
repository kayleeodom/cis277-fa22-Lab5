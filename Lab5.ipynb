{
 "cells": [
  {
   "cell_type": "markdown",
   "metadata": {},
   "source": [
    "# Lab 5 - Data Visualization"
   ]
  },
  {
   "cell_type": "code",
   "execution_count": 184,
   "metadata": {},
   "outputs": [],
   "source": [
    "import pandas as pd\n",
    "import matplotlib.pyplot as plt"
   ]
  },
  {
   "cell_type": "markdown",
   "metadata": {},
   "source": [
    "## NFL Offense Data"
   ]
  },
  {
   "cell_type": "code",
   "execution_count": 194,
   "metadata": {},
   "outputs": [],
   "source": [
    "# import csv\n",
    "df3 = pd.read_csv(\"nfloffenseweek3.csv\")\n",
    "df4 = pd.read_csv(\"nfloffenseweek4.csv\")\n",
    "df5 = pd.read_csv(\"nfloffenseweek5.csv\")\n",
    "df_teams = pd.read_csv(\"nfl_teams.csv\")"
   ]
  },
  {
   "cell_type": "markdown",
   "metadata": {},
   "source": [
    "1. Import the NFL week 3, 4, and 5 data and add a week column to dataset and set the value to 3, 4, or 5 for all rows from that week. Combine the weekly dataframes by adding the dataframes together row-wise. Also merge the nfl_teams.csv data to this dataframe so that the division and conference info is included."
   ]
  },
  {
   "cell_type": "code",
   "execution_count": 211,
   "metadata": {},
   "outputs": [
    {
     "data": {
      "text/html": [
       "<div>\n",
       "<style scoped>\n",
       "    .dataframe tbody tr th:only-of-type {\n",
       "        vertical-align: middle;\n",
       "    }\n",
       "\n",
       "    .dataframe tbody tr th {\n",
       "        vertical-align: top;\n",
       "    }\n",
       "\n",
       "    .dataframe thead th {\n",
       "        text-align: right;\n",
       "    }\n",
       "</style>\n",
       "<table border=\"1\" class=\"dataframe\">\n",
       "  <thead>\n",
       "    <tr style=\"text-align: right;\">\n",
       "      <th></th>\n",
       "      <th>rank</th>\n",
       "      <th>team</th>\n",
       "      <th>games</th>\n",
       "      <th>points_scored</th>\n",
       "      <th>total_yards</th>\n",
       "      <th>offensive_plays</th>\n",
       "      <th>yards_per_play</th>\n",
       "      <th>turnovers_lost</th>\n",
       "      <th>fumbles_lost</th>\n",
       "      <th>first_downs</th>\n",
       "      <th>...</th>\n",
       "      <th>penalty_yards</th>\n",
       "      <th>1st_down_penalties</th>\n",
       "      <th>percentage_scoring_drives</th>\n",
       "      <th>percentage_turnover_drives</th>\n",
       "      <th>expected_points</th>\n",
       "      <th>week</th>\n",
       "      <th>ID</th>\n",
       "      <th>Abbreviation</th>\n",
       "      <th>Conference</th>\n",
       "      <th>Division</th>\n",
       "    </tr>\n",
       "  </thead>\n",
       "  <tbody>\n",
       "    <tr>\n",
       "      <th>0</th>\n",
       "      <td>1</td>\n",
       "      <td>Baltimore Ravens</td>\n",
       "      <td>3</td>\n",
       "      <td>99</td>\n",
       "      <td>1141</td>\n",
       "      <td>166</td>\n",
       "      <td>6.9</td>\n",
       "      <td>3</td>\n",
       "      <td>1</td>\n",
       "      <td>55</td>\n",
       "      <td>...</td>\n",
       "      <td>44</td>\n",
       "      <td>5</td>\n",
       "      <td>42.9</td>\n",
       "      <td>8.6</td>\n",
       "      <td>35.63</td>\n",
       "      <td>3</td>\n",
       "      <td>3</td>\n",
       "      <td>BAL</td>\n",
       "      <td>AFC</td>\n",
       "      <td>North</td>\n",
       "    </tr>\n",
       "    <tr>\n",
       "      <th>1</th>\n",
       "      <td>2</td>\n",
       "      <td>Detroit Lions</td>\n",
       "      <td>3</td>\n",
       "      <td>95</td>\n",
       "      <td>1227</td>\n",
       "      <td>203</td>\n",
       "      <td>6.0</td>\n",
       "      <td>2</td>\n",
       "      <td>0</td>\n",
       "      <td>63</td>\n",
       "      <td>...</td>\n",
       "      <td>129</td>\n",
       "      <td>5</td>\n",
       "      <td>40.5</td>\n",
       "      <td>5.4</td>\n",
       "      <td>31.05</td>\n",
       "      <td>3</td>\n",
       "      <td>11</td>\n",
       "      <td>DET</td>\n",
       "      <td>NFC</td>\n",
       "      <td>North</td>\n",
       "    </tr>\n",
       "    <tr>\n",
       "      <th>2</th>\n",
       "      <td>3</td>\n",
       "      <td>Buffalo Bills</td>\n",
       "      <td>3</td>\n",
       "      <td>91</td>\n",
       "      <td>1324</td>\n",
       "      <td>213</td>\n",
       "      <td>6.2</td>\n",
       "      <td>5</td>\n",
       "      <td>3</td>\n",
       "      <td>77</td>\n",
       "      <td>...</td>\n",
       "      <td>136</td>\n",
       "      <td>6</td>\n",
       "      <td>46.7</td>\n",
       "      <td>16.7</td>\n",
       "      <td>47.46</td>\n",
       "      <td>3</td>\n",
       "      <td>4</td>\n",
       "      <td>BUF</td>\n",
       "      <td>AFC</td>\n",
       "      <td>East</td>\n",
       "    </tr>\n",
       "    <tr>\n",
       "      <th>3</th>\n",
       "      <td>4</td>\n",
       "      <td>Kansas City Chiefs</td>\n",
       "      <td>3</td>\n",
       "      <td>88</td>\n",
       "      <td>1122</td>\n",
       "      <td>180</td>\n",
       "      <td>6.2</td>\n",
       "      <td>3</td>\n",
       "      <td>2</td>\n",
       "      <td>68</td>\n",
       "      <td>...</td>\n",
       "      <td>124</td>\n",
       "      <td>8</td>\n",
       "      <td>45.2</td>\n",
       "      <td>6.5</td>\n",
       "      <td>40.73</td>\n",
       "      <td>3</td>\n",
       "      <td>16</td>\n",
       "      <td>KC</td>\n",
       "      <td>AFC</td>\n",
       "      <td>West</td>\n",
       "    </tr>\n",
       "    <tr>\n",
       "      <th>4</th>\n",
       "      <td>5</td>\n",
       "      <td>Philadelphia Eagles</td>\n",
       "      <td>3</td>\n",
       "      <td>86</td>\n",
       "      <td>1341</td>\n",
       "      <td>208</td>\n",
       "      <td>6.4</td>\n",
       "      <td>1</td>\n",
       "      <td>0</td>\n",
       "      <td>73</td>\n",
       "      <td>...</td>\n",
       "      <td>173</td>\n",
       "      <td>6</td>\n",
       "      <td>39.4</td>\n",
       "      <td>3.0</td>\n",
       "      <td>45.06</td>\n",
       "      <td>3</td>\n",
       "      <td>24</td>\n",
       "      <td>PHI</td>\n",
       "      <td>NFC</td>\n",
       "      <td>East</td>\n",
       "    </tr>\n",
       "    <tr>\n",
       "      <th>...</th>\n",
       "      <td>...</td>\n",
       "      <td>...</td>\n",
       "      <td>...</td>\n",
       "      <td>...</td>\n",
       "      <td>...</td>\n",
       "      <td>...</td>\n",
       "      <td>...</td>\n",
       "      <td>...</td>\n",
       "      <td>...</td>\n",
       "      <td>...</td>\n",
       "      <td>...</td>\n",
       "      <td>...</td>\n",
       "      <td>...</td>\n",
       "      <td>...</td>\n",
       "      <td>...</td>\n",
       "      <td>...</td>\n",
       "      <td>...</td>\n",
       "      <td>...</td>\n",
       "      <td>...</td>\n",
       "      <td>...</td>\n",
       "      <td>...</td>\n",
       "    </tr>\n",
       "    <tr>\n",
       "      <th>91</th>\n",
       "      <td>28</td>\n",
       "      <td>Chicago Bears</td>\n",
       "      <td>5</td>\n",
       "      <td>86</td>\n",
       "      <td>1370</td>\n",
       "      <td>266</td>\n",
       "      <td>5.2</td>\n",
       "      <td>8</td>\n",
       "      <td>4</td>\n",
       "      <td>73</td>\n",
       "      <td>...</td>\n",
       "      <td>211</td>\n",
       "      <td>9</td>\n",
       "      <td>36.5</td>\n",
       "      <td>13.5</td>\n",
       "      <td>-5.91</td>\n",
       "      <td>5</td>\n",
       "      <td>6</td>\n",
       "      <td>CHI</td>\n",
       "      <td>NFC</td>\n",
       "      <td>North</td>\n",
       "    </tr>\n",
       "    <tr>\n",
       "      <th>92</th>\n",
       "      <td>29</td>\n",
       "      <td>Los Angeles Rams</td>\n",
       "      <td>5</td>\n",
       "      <td>80</td>\n",
       "      <td>1499</td>\n",
       "      <td>312</td>\n",
       "      <td>4.8</td>\n",
       "      <td>12</td>\n",
       "      <td>5</td>\n",
       "      <td>93</td>\n",
       "      <td>...</td>\n",
       "      <td>156</td>\n",
       "      <td>8</td>\n",
       "      <td>31.4</td>\n",
       "      <td>23.5</td>\n",
       "      <td>-19.19</td>\n",
       "      <td>5</td>\n",
       "      <td>29</td>\n",
       "      <td>LAR</td>\n",
       "      <td>NFC</td>\n",
       "      <td>West</td>\n",
       "    </tr>\n",
       "    <tr>\n",
       "      <th>93</th>\n",
       "      <td>30</td>\n",
       "      <td>Pittsburgh Steelers</td>\n",
       "      <td>5</td>\n",
       "      <td>77</td>\n",
       "      <td>1479</td>\n",
       "      <td>306</td>\n",
       "      <td>4.8</td>\n",
       "      <td>9</td>\n",
       "      <td>3</td>\n",
       "      <td>92</td>\n",
       "      <td>...</td>\n",
       "      <td>213</td>\n",
       "      <td>6</td>\n",
       "      <td>26.3</td>\n",
       "      <td>12.3</td>\n",
       "      <td>-25.01</td>\n",
       "      <td>5</td>\n",
       "      <td>25</td>\n",
       "      <td>PIT</td>\n",
       "      <td>AFC</td>\n",
       "      <td>North</td>\n",
       "    </tr>\n",
       "    <tr>\n",
       "      <th>94</th>\n",
       "      <td>31</td>\n",
       "      <td>Denver Broncos</td>\n",
       "      <td>5</td>\n",
       "      <td>75</td>\n",
       "      <td>1718</td>\n",
       "      <td>318</td>\n",
       "      <td>5.4</td>\n",
       "      <td>6</td>\n",
       "      <td>3</td>\n",
       "      <td>84</td>\n",
       "      <td>...</td>\n",
       "      <td>335</td>\n",
       "      <td>8</td>\n",
       "      <td>29.3</td>\n",
       "      <td>10.3</td>\n",
       "      <td>-18.28</td>\n",
       "      <td>5</td>\n",
       "      <td>10</td>\n",
       "      <td>DEN</td>\n",
       "      <td>AFC</td>\n",
       "      <td>West</td>\n",
       "    </tr>\n",
       "    <tr>\n",
       "      <th>95</th>\n",
       "      <td>32</td>\n",
       "      <td>Indianapolis Colts</td>\n",
       "      <td>5</td>\n",
       "      <td>69</td>\n",
       "      <td>1665</td>\n",
       "      <td>343</td>\n",
       "      <td>4.9</td>\n",
       "      <td>11</td>\n",
       "      <td>4</td>\n",
       "      <td>101</td>\n",
       "      <td>...</td>\n",
       "      <td>267</td>\n",
       "      <td>6</td>\n",
       "      <td>26.3</td>\n",
       "      <td>19.3</td>\n",
       "      <td>-33.65-</td>\n",
       "      <td>5</td>\n",
       "      <td>14</td>\n",
       "      <td>IND</td>\n",
       "      <td>AFC</td>\n",
       "      <td>South</td>\n",
       "    </tr>\n",
       "  </tbody>\n",
       "</table>\n",
       "<p>96 rows × 33 columns</p>\n",
       "</div>"
      ],
      "text/plain": [
       "    rank                 team  games  points_scored  total_yards  \\\n",
       "0      1     Baltimore Ravens      3             99         1141   \n",
       "1      2        Detroit Lions      3             95         1227   \n",
       "2      3        Buffalo Bills      3             91         1324   \n",
       "3      4   Kansas City Chiefs      3             88         1122   \n",
       "4      5  Philadelphia Eagles      3             86         1341   \n",
       "..   ...                  ...    ...            ...          ...   \n",
       "91    28        Chicago Bears      5             86         1370   \n",
       "92    29     Los Angeles Rams      5             80         1499   \n",
       "93    30  Pittsburgh Steelers      5             77         1479   \n",
       "94    31       Denver Broncos      5             75         1718   \n",
       "95    32   Indianapolis Colts      5             69         1665   \n",
       "\n",
       "    offensive_plays  yards_per_play  turnovers_lost  fumbles_lost  \\\n",
       "0               166             6.9               3             1   \n",
       "1               203             6.0               2             0   \n",
       "2               213             6.2               5             3   \n",
       "3               180             6.2               3             2   \n",
       "4               208             6.4               1             0   \n",
       "..              ...             ...             ...           ...   \n",
       "91              266             5.2               8             4   \n",
       "92              312             4.8              12             5   \n",
       "93              306             4.8               9             3   \n",
       "94              318             5.4               6             3   \n",
       "95              343             4.9              11             4   \n",
       "\n",
       "    first_downs  ...  penalty_yards  1st_down_penalties  \\\n",
       "0            55  ...             44                   5   \n",
       "1            63  ...            129                   5   \n",
       "2            77  ...            136                   6   \n",
       "3            68  ...            124                   8   \n",
       "4            73  ...            173                   6   \n",
       "..          ...  ...            ...                 ...   \n",
       "91           73  ...            211                   9   \n",
       "92           93  ...            156                   8   \n",
       "93           92  ...            213                   6   \n",
       "94           84  ...            335                   8   \n",
       "95          101  ...            267                   6   \n",
       "\n",
       "    percentage_scoring_drives  percentage_turnover_drives  expected_points  \\\n",
       "0                        42.9                         8.6            35.63   \n",
       "1                        40.5                         5.4            31.05   \n",
       "2                        46.7                        16.7            47.46   \n",
       "3                        45.2                         6.5            40.73   \n",
       "4                        39.4                         3.0            45.06   \n",
       "..                        ...                         ...              ...   \n",
       "91                       36.5                        13.5            -5.91   \n",
       "92                       31.4                        23.5           -19.19   \n",
       "93                       26.3                        12.3           -25.01   \n",
       "94                       29.3                        10.3           -18.28   \n",
       "95                       26.3                        19.3          -33.65-   \n",
       "\n",
       "    week  ID  Abbreviation  Conference  Division  \n",
       "0      3   3           BAL         AFC     North  \n",
       "1      3  11           DET         NFC     North  \n",
       "2      3   4           BUF         AFC      East  \n",
       "3      3  16            KC         AFC      West  \n",
       "4      3  24           PHI         NFC      East  \n",
       "..   ...  ..           ...         ...       ...  \n",
       "91     5   6           CHI         NFC     North  \n",
       "92     5  29           LAR         NFC      West  \n",
       "93     5  25           PIT         AFC     North  \n",
       "94     5  10           DEN         AFC      West  \n",
       "95     5  14           IND         AFC     South  \n",
       "\n",
       "[96 rows x 33 columns]"
      ]
     },
     "execution_count": 211,
     "metadata": {},
     "output_type": "execute_result"
    }
   ],
   "source": [
    "\n",
    "df3['week'] = 3\n",
    "df4['week'] = 4\n",
    "df5['week'] = 5\n",
    "\n",
    "week_files = [df3,df4,df5]\n",
    "df = pd.concat(week_files)\n",
    "\n",
    "df = df.merge(df_teams, how='left',on=\"team\")\n",
    "df\n"
   ]
  },
  {
   "cell_type": "markdown",
   "metadata": {},
   "source": [
    "2. Plot the average number of points scored each week for each team on a horizontal bar chart (with teams on the vertical axis and points on the horizontal axis). Add the points scored for each bar. (Hint: check out `plt.bar_label()`)"
   ]
  },
  {
   "cell_type": "code",
   "execution_count": 214,
   "metadata": {},
   "outputs": [
    {
     "ename": "ValueError",
     "evalue": "shape mismatch: objects cannot be broadcast to a single shape",
     "output_type": "error",
     "traceback": [
      "\u001b[1;31m---------------------------------------------------------------------------\u001b[0m",
      "\u001b[1;31mValueError\u001b[0m                                Traceback (most recent call last)",
      "\u001b[1;32mc:\\Users\\kodom\\OneDrive\\Documents\\Data Analytics\\cis277-fa22-Lab5\\Lab5.ipynb Cell 8\u001b[0m in \u001b[0;36m<cell line: 11>\u001b[1;34m()\u001b[0m\n\u001b[0;32m      <a href='vscode-notebook-cell:/c%3A/Users/kodom/OneDrive/Documents/Data%20Analytics/cis277-fa22-Lab5/Lab5.ipynb#X12sZmlsZQ%3D%3D?line=4'>5</a>\u001b[0m \u001b[39m#plt.barh(nfl_team.Name, nfl_team.ID)\u001b[39;00m\n\u001b[0;32m      <a href='vscode-notebook-cell:/c%3A/Users/kodom/OneDrive/Documents/Data%20Analytics/cis277-fa22-Lab5/Lab5.ipynb#X12sZmlsZQ%3D%3D?line=5'>6</a>\u001b[0m \u001b[39m#plt.title(\"Average number of Points\")\u001b[39;00m\n\u001b[0;32m      <a href='vscode-notebook-cell:/c%3A/Users/kodom/OneDrive/Documents/Data%20Analytics/cis277-fa22-Lab5/Lab5.ipynb#X12sZmlsZQ%3D%3D?line=6'>7</a>\u001b[0m \u001b[39m#plt.xlabel(\"Points\")\u001b[39;00m\n\u001b[0;32m      <a href='vscode-notebook-cell:/c%3A/Users/kodom/OneDrive/Documents/Data%20Analytics/cis277-fa22-Lab5/Lab5.ipynb#X12sZmlsZQ%3D%3D?line=7'>8</a>\u001b[0m \u001b[39m#plt.ylabel(\"Teams\")\u001b[39;00m\n\u001b[0;32m      <a href='vscode-notebook-cell:/c%3A/Users/kodom/OneDrive/Documents/Data%20Analytics/cis277-fa22-Lab5/Lab5.ipynb#X12sZmlsZQ%3D%3D?line=8'>9</a>\u001b[0m \u001b[39m#plt.show()\u001b[39;00m\n\u001b[0;32m     <a href='vscode-notebook-cell:/c%3A/Users/kodom/OneDrive/Documents/Data%20Analytics/cis277-fa22-Lab5/Lab5.ipynb#X12sZmlsZQ%3D%3D?line=9'>10</a>\u001b[0m fig, ax \u001b[39m=\u001b[39m plt\u001b[39m.\u001b[39msubplots()\n\u001b[1;32m---> <a href='vscode-notebook-cell:/c%3A/Users/kodom/OneDrive/Documents/Data%20Analytics/cis277-fa22-Lab5/Lab5.ipynb#X12sZmlsZQ%3D%3D?line=10'>11</a>\u001b[0m ax\u001b[39m.\u001b[39;49mbarh(df\u001b[39m.\u001b[39;49mteam, avg_num, linewidth\u001b[39m=\u001b[39;49m\u001b[39m1\u001b[39;49m)\n\u001b[0;32m     <a href='vscode-notebook-cell:/c%3A/Users/kodom/OneDrive/Documents/Data%20Analytics/cis277-fa22-Lab5/Lab5.ipynb#X12sZmlsZQ%3D%3D?line=11'>12</a>\u001b[0m \u001b[39m#plt.bar_label(barhplot, labels = \"size\")\u001b[39;00m\n\u001b[0;32m     <a href='vscode-notebook-cell:/c%3A/Users/kodom/OneDrive/Documents/Data%20Analytics/cis277-fa22-Lab5/Lab5.ipynb#X12sZmlsZQ%3D%3D?line=12'>13</a>\u001b[0m \u001b[39m#barhplot\u001b[39;00m\n\u001b[0;32m     <a href='vscode-notebook-cell:/c%3A/Users/kodom/OneDrive/Documents/Data%20Analytics/cis277-fa22-Lab5/Lab5.ipynb#X12sZmlsZQ%3D%3D?line=13'>14</a>\u001b[0m plt\u001b[39m.\u001b[39mshow()\n",
      "File \u001b[1;32mc:\\Users\\kodom\\anaconda3\\lib\\site-packages\\matplotlib\\axes\\_axes.py:2551\u001b[0m, in \u001b[0;36mAxes.barh\u001b[1;34m(self, y, width, height, left, align, **kwargs)\u001b[0m\n\u001b[0;32m   2452\u001b[0m \u001b[39mr\u001b[39m\u001b[39m\"\"\"\u001b[39;00m\n\u001b[0;32m   2453\u001b[0m \u001b[39mMake a horizontal bar plot.\u001b[39;00m\n\u001b[0;32m   2454\u001b[0m \n\u001b[1;32m   (...)\u001b[0m\n\u001b[0;32m   2548\u001b[0m \u001b[39m.\u001b[39;00m\n\u001b[0;32m   2549\u001b[0m \u001b[39m\"\"\"\u001b[39;00m\n\u001b[0;32m   2550\u001b[0m kwargs\u001b[39m.\u001b[39msetdefault(\u001b[39m'\u001b[39m\u001b[39morientation\u001b[39m\u001b[39m'\u001b[39m, \u001b[39m'\u001b[39m\u001b[39mhorizontal\u001b[39m\u001b[39m'\u001b[39m)\n\u001b[1;32m-> 2551\u001b[0m patches \u001b[39m=\u001b[39m \u001b[39mself\u001b[39m\u001b[39m.\u001b[39mbar(x\u001b[39m=\u001b[39mleft, height\u001b[39m=\u001b[39mheight, width\u001b[39m=\u001b[39mwidth, bottom\u001b[39m=\u001b[39my,\n\u001b[0;32m   2552\u001b[0m                    align\u001b[39m=\u001b[39malign, \u001b[39m*\u001b[39m\u001b[39m*\u001b[39mkwargs)\n\u001b[0;32m   2553\u001b[0m \u001b[39mreturn\u001b[39;00m patches\n",
      "File \u001b[1;32mc:\\Users\\kodom\\anaconda3\\lib\\site-packages\\matplotlib\\__init__.py:1412\u001b[0m, in \u001b[0;36m_preprocess_data.<locals>.inner\u001b[1;34m(ax, data, *args, **kwargs)\u001b[0m\n\u001b[0;32m   1409\u001b[0m \u001b[39m@functools\u001b[39m\u001b[39m.\u001b[39mwraps(func)\n\u001b[0;32m   1410\u001b[0m \u001b[39mdef\u001b[39;00m \u001b[39minner\u001b[39m(ax, \u001b[39m*\u001b[39margs, data\u001b[39m=\u001b[39m\u001b[39mNone\u001b[39;00m, \u001b[39m*\u001b[39m\u001b[39m*\u001b[39mkwargs):\n\u001b[0;32m   1411\u001b[0m     \u001b[39mif\u001b[39;00m data \u001b[39mis\u001b[39;00m \u001b[39mNone\u001b[39;00m:\n\u001b[1;32m-> 1412\u001b[0m         \u001b[39mreturn\u001b[39;00m func(ax, \u001b[39m*\u001b[39m\u001b[39mmap\u001b[39m(sanitize_sequence, args), \u001b[39m*\u001b[39m\u001b[39m*\u001b[39mkwargs)\n\u001b[0;32m   1414\u001b[0m     bound \u001b[39m=\u001b[39m new_sig\u001b[39m.\u001b[39mbind(ax, \u001b[39m*\u001b[39margs, \u001b[39m*\u001b[39m\u001b[39m*\u001b[39mkwargs)\n\u001b[0;32m   1415\u001b[0m     auto_label \u001b[39m=\u001b[39m (bound\u001b[39m.\u001b[39marguments\u001b[39m.\u001b[39mget(label_namer)\n\u001b[0;32m   1416\u001b[0m                   \u001b[39mor\u001b[39;00m bound\u001b[39m.\u001b[39mkwargs\u001b[39m.\u001b[39mget(label_namer))\n",
      "File \u001b[1;32mc:\\Users\\kodom\\anaconda3\\lib\\site-packages\\matplotlib\\axes\\_axes.py:2342\u001b[0m, in \u001b[0;36mAxes.bar\u001b[1;34m(self, x, height, width, bottom, align, **kwargs)\u001b[0m\n\u001b[0;32m   2339\u001b[0m     \u001b[39mif\u001b[39;00m yerr \u001b[39mis\u001b[39;00m \u001b[39mnot\u001b[39;00m \u001b[39mNone\u001b[39;00m:\n\u001b[0;32m   2340\u001b[0m         yerr \u001b[39m=\u001b[39m \u001b[39mself\u001b[39m\u001b[39m.\u001b[39m_convert_dx(yerr, y0, y, \u001b[39mself\u001b[39m\u001b[39m.\u001b[39mconvert_yunits)\n\u001b[1;32m-> 2342\u001b[0m x, height, width, y, linewidth, hatch \u001b[39m=\u001b[39m np\u001b[39m.\u001b[39;49mbroadcast_arrays(\n\u001b[0;32m   2343\u001b[0m     \u001b[39m# Make args iterable too.\u001b[39;49;00m\n\u001b[0;32m   2344\u001b[0m     np\u001b[39m.\u001b[39;49matleast_1d(x), height, width, y, linewidth, hatch)\n\u001b[0;32m   2346\u001b[0m \u001b[39m# Now that units have been converted, set the tick locations.\u001b[39;00m\n\u001b[0;32m   2347\u001b[0m \u001b[39mif\u001b[39;00m orientation \u001b[39m==\u001b[39m \u001b[39m'\u001b[39m\u001b[39mvertical\u001b[39m\u001b[39m'\u001b[39m:\n",
      "File \u001b[1;32m<__array_function__ internals>:5\u001b[0m, in \u001b[0;36mbroadcast_arrays\u001b[1;34m(*args, **kwargs)\u001b[0m\n",
      "File \u001b[1;32mc:\\Users\\kodom\\anaconda3\\lib\\site-packages\\numpy\\lib\\stride_tricks.py:538\u001b[0m, in \u001b[0;36mbroadcast_arrays\u001b[1;34m(subok, *args)\u001b[0m\n\u001b[0;32m    531\u001b[0m \u001b[39m# nditer is not used here to avoid the limit of 32 arrays.\u001b[39;00m\n\u001b[0;32m    532\u001b[0m \u001b[39m# Otherwise, something like the following one-liner would suffice:\u001b[39;00m\n\u001b[0;32m    533\u001b[0m \u001b[39m# return np.nditer(args, flags=['multi_index', 'zerosize_ok'],\u001b[39;00m\n\u001b[0;32m    534\u001b[0m \u001b[39m#                  order='C').itviews\u001b[39;00m\n\u001b[0;32m    536\u001b[0m args \u001b[39m=\u001b[39m [np\u001b[39m.\u001b[39marray(_m, copy\u001b[39m=\u001b[39m\u001b[39mFalse\u001b[39;00m, subok\u001b[39m=\u001b[39msubok) \u001b[39mfor\u001b[39;00m _m \u001b[39min\u001b[39;00m args]\n\u001b[1;32m--> 538\u001b[0m shape \u001b[39m=\u001b[39m _broadcast_shape(\u001b[39m*\u001b[39;49margs)\n\u001b[0;32m    540\u001b[0m \u001b[39mif\u001b[39;00m \u001b[39mall\u001b[39m(array\u001b[39m.\u001b[39mshape \u001b[39m==\u001b[39m shape \u001b[39mfor\u001b[39;00m array \u001b[39min\u001b[39;00m args):\n\u001b[0;32m    541\u001b[0m     \u001b[39m# Common case where nothing needs to be broadcasted.\u001b[39;00m\n\u001b[0;32m    542\u001b[0m     \u001b[39mreturn\u001b[39;00m args\n",
      "File \u001b[1;32mc:\\Users\\kodom\\anaconda3\\lib\\site-packages\\numpy\\lib\\stride_tricks.py:420\u001b[0m, in \u001b[0;36m_broadcast_shape\u001b[1;34m(*args)\u001b[0m\n\u001b[0;32m    415\u001b[0m \u001b[39m\"\"\"Returns the shape of the arrays that would result from broadcasting the\u001b[39;00m\n\u001b[0;32m    416\u001b[0m \u001b[39msupplied arrays against each other.\u001b[39;00m\n\u001b[0;32m    417\u001b[0m \u001b[39m\"\"\"\u001b[39;00m\n\u001b[0;32m    418\u001b[0m \u001b[39m# use the old-iterator because np.nditer does not handle size 0 arrays\u001b[39;00m\n\u001b[0;32m    419\u001b[0m \u001b[39m# consistently\u001b[39;00m\n\u001b[1;32m--> 420\u001b[0m b \u001b[39m=\u001b[39m np\u001b[39m.\u001b[39;49mbroadcast(\u001b[39m*\u001b[39;49margs[:\u001b[39m32\u001b[39;49m])\n\u001b[0;32m    421\u001b[0m \u001b[39m# unfortunately, it cannot handle 32 or more arguments directly\u001b[39;00m\n\u001b[0;32m    422\u001b[0m \u001b[39mfor\u001b[39;00m pos \u001b[39min\u001b[39;00m \u001b[39mrange\u001b[39m(\u001b[39m32\u001b[39m, \u001b[39mlen\u001b[39m(args), \u001b[39m31\u001b[39m):\n\u001b[0;32m    423\u001b[0m     \u001b[39m# ironically, np.broadcast does not properly handle np.broadcast\u001b[39;00m\n\u001b[0;32m    424\u001b[0m     \u001b[39m# objects (it treats them as scalars)\u001b[39;00m\n\u001b[0;32m    425\u001b[0m     \u001b[39m# use broadcasting to avoid allocating the full array\u001b[39;00m\n",
      "\u001b[1;31mValueError\u001b[0m: shape mismatch: objects cannot be broadcast to a single shape"
     ]
    },
    {
     "data": {
      "text/plain": [
       "<Figure size 3168x2448 with 0 Axes>"
      ]
     },
     "metadata": {},
     "output_type": "display_data"
    },
    {
     "data": {
      "image/png": "[encoded data removed]",
      "text/plain": [
       "<Figure size 432x288 with 1 Axes>"
      ]
     },
     "metadata": {
      "needs_background": "light"
     },
     "output_type": "display_data"
    }
   ],
   "source": [
    "plt.figure(figsize=(44, 34))\n",
    "\n",
    "avg_num = df.groupby(\"team\").points_scored.mean()\n",
    "avg_num\n",
    "#plt.barh(nfl_team.Name, nfl_team.ID)\n",
    "#plt.title(\"Average number of Points\")\n",
    "#plt.xlabel(\"Points\")\n",
    "#plt.ylabel(\"Teams\")\n",
    "#plt.show()\n",
    "fig, ax = plt.subplots()\n",
    "ax.barh(df.team, avg_num, linewidth=1)\n",
    "#plt.bar_label(barhplot, labels = \"size\")\n",
    "#barhplot\n",
    "plt.show()"
   ]
  },
  {
   "cell_type": "markdown",
   "metadata": {},
   "source": [
    "3. Plot the average passing yards and average rushing yards for each team as a stacked bar chart."
   ]
  },
  {
   "cell_type": "code",
   "execution_count": 215,
   "metadata": {},
   "outputs": [
    {
     "ename": "ValueError",
     "evalue": "shape mismatch: objects cannot be broadcast to a single shape",
     "output_type": "error",
     "traceback": [
      "\u001b[1;31m---------------------------------------------------------------------------\u001b[0m",
      "\u001b[1;31mValueError\u001b[0m                                Traceback (most recent call last)",
      "\u001b[1;32mc:\\Users\\kodom\\OneDrive\\Documents\\Data Analytics\\cis277-fa22-Lab5\\Lab5.ipynb Cell 10\u001b[0m in \u001b[0;36m<cell line: 6>\u001b[1;34m()\u001b[0m\n\u001b[0;32m      <a href='vscode-notebook-cell:/c%3A/Users/kodom/OneDrive/Documents/Data%20Analytics/cis277-fa22-Lab5/Lab5.ipynb#X14sZmlsZQ%3D%3D?line=2'>3</a>\u001b[0m avg_rush \u001b[39m=\u001b[39m df\u001b[39m.\u001b[39mgroupby(\u001b[39m'\u001b[39m\u001b[39mteam\u001b[39m\u001b[39m'\u001b[39m)\u001b[39m.\u001b[39mrushing_yards\u001b[39m.\u001b[39mmean()\n\u001b[0;32m      <a href='vscode-notebook-cell:/c%3A/Users/kodom/OneDrive/Documents/Data%20Analytics/cis277-fa22-Lab5/Lab5.ipynb#X14sZmlsZQ%3D%3D?line=3'>4</a>\u001b[0m avg_rush\n\u001b[1;32m----> <a href='vscode-notebook-cell:/c%3A/Users/kodom/OneDrive/Documents/Data%20Analytics/cis277-fa22-Lab5/Lab5.ipynb#X14sZmlsZQ%3D%3D?line=5'>6</a>\u001b[0m plt\u001b[39m.\u001b[39;49mbar(avg_pass, df\u001b[39m.\u001b[39;49mteam, color\u001b[39m=\u001b[39;49m\u001b[39m\"\u001b[39;49m\u001b[39mblue\u001b[39;49m\u001b[39m\"\u001b[39;49m)\n\u001b[0;32m      <a href='vscode-notebook-cell:/c%3A/Users/kodom/OneDrive/Documents/Data%20Analytics/cis277-fa22-Lab5/Lab5.ipynb#X14sZmlsZQ%3D%3D?line=6'>7</a>\u001b[0m plt\u001b[39m.\u001b[39mbar(avg_rush, df\u001b[39m.\u001b[39mteam, bottom\u001b[39m=\u001b[39mavg_rush, color\u001b[39m=\u001b[39m\u001b[39m\"\u001b[39m\u001b[39mgreen\u001b[39m\u001b[39m\"\u001b[39m)\n\u001b[0;32m      <a href='vscode-notebook-cell:/c%3A/Users/kodom/OneDrive/Documents/Data%20Analytics/cis277-fa22-Lab5/Lab5.ipynb#X14sZmlsZQ%3D%3D?line=7'>8</a>\u001b[0m plt\u001b[39m.\u001b[39mtitle(\u001b[39m\"\u001b[39m\u001b[39mAverage Passing and rushing yards\u001b[39m\u001b[39m\"\u001b[39m)\n",
      "File \u001b[1;32mc:\\Users\\kodom\\anaconda3\\lib\\site-packages\\matplotlib\\pyplot.py:2387\u001b[0m, in \u001b[0;36mbar\u001b[1;34m(x, height, width, bottom, align, data, **kwargs)\u001b[0m\n\u001b[0;32m   2383\u001b[0m \u001b[39m@_copy_docstring_and_deprecators\u001b[39m(Axes\u001b[39m.\u001b[39mbar)\n\u001b[0;32m   2384\u001b[0m \u001b[39mdef\u001b[39;00m \u001b[39mbar\u001b[39m(\n\u001b[0;32m   2385\u001b[0m         x, height, width\u001b[39m=\u001b[39m\u001b[39m0.8\u001b[39m, bottom\u001b[39m=\u001b[39m\u001b[39mNone\u001b[39;00m, \u001b[39m*\u001b[39m, align\u001b[39m=\u001b[39m\u001b[39m'\u001b[39m\u001b[39mcenter\u001b[39m\u001b[39m'\u001b[39m,\n\u001b[0;32m   2386\u001b[0m         data\u001b[39m=\u001b[39m\u001b[39mNone\u001b[39;00m, \u001b[39m*\u001b[39m\u001b[39m*\u001b[39mkwargs):\n\u001b[1;32m-> 2387\u001b[0m     \u001b[39mreturn\u001b[39;00m gca()\u001b[39m.\u001b[39mbar(\n\u001b[0;32m   2388\u001b[0m         x, height, width\u001b[39m=\u001b[39mwidth, bottom\u001b[39m=\u001b[39mbottom, align\u001b[39m=\u001b[39malign,\n\u001b[0;32m   2389\u001b[0m         \u001b[39m*\u001b[39m\u001b[39m*\u001b[39m({\u001b[39m\"\u001b[39m\u001b[39mdata\u001b[39m\u001b[39m\"\u001b[39m: data} \u001b[39mif\u001b[39;00m data \u001b[39mis\u001b[39;00m \u001b[39mnot\u001b[39;00m \u001b[39mNone\u001b[39;00m \u001b[39melse\u001b[39;00m {}), \u001b[39m*\u001b[39m\u001b[39m*\u001b[39mkwargs)\n",
      "File \u001b[1;32mc:\\Users\\kodom\\anaconda3\\lib\\site-packages\\matplotlib\\__init__.py:1412\u001b[0m, in \u001b[0;36m_preprocess_data.<locals>.inner\u001b[1;34m(ax, data, *args, **kwargs)\u001b[0m\n\u001b[0;32m   1409\u001b[0m \u001b[39m@functools\u001b[39m\u001b[39m.\u001b[39mwraps(func)\n\u001b[0;32m   1410\u001b[0m \u001b[39mdef\u001b[39;00m \u001b[39minner\u001b[39m(ax, \u001b[39m*\u001b[39margs, data\u001b[39m=\u001b[39m\u001b[39mNone\u001b[39;00m, \u001b[39m*\u001b[39m\u001b[39m*\u001b[39mkwargs):\n\u001b[0;32m   1411\u001b[0m     \u001b[39mif\u001b[39;00m data \u001b[39mis\u001b[39;00m \u001b[39mNone\u001b[39;00m:\n\u001b[1;32m-> 1412\u001b[0m         \u001b[39mreturn\u001b[39;00m func(ax, \u001b[39m*\u001b[39m\u001b[39mmap\u001b[39m(sanitize_sequence, args), \u001b[39m*\u001b[39m\u001b[39m*\u001b[39mkwargs)\n\u001b[0;32m   1414\u001b[0m     bound \u001b[39m=\u001b[39m new_sig\u001b[39m.\u001b[39mbind(ax, \u001b[39m*\u001b[39margs, \u001b[39m*\u001b[39m\u001b[39m*\u001b[39mkwargs)\n\u001b[0;32m   1415\u001b[0m     auto_label \u001b[39m=\u001b[39m (bound\u001b[39m.\u001b[39marguments\u001b[39m.\u001b[39mget(label_namer)\n\u001b[0;32m   1416\u001b[0m                   \u001b[39mor\u001b[39;00m bound\u001b[39m.\u001b[39mkwargs\u001b[39m.\u001b[39mget(label_namer))\n",
      "File \u001b[1;32mc:\\Users\\kodom\\anaconda3\\lib\\site-packages\\matplotlib\\axes\\_axes.py:2342\u001b[0m, in \u001b[0;36mAxes.bar\u001b[1;34m(self, x, height, width, bottom, align, **kwargs)\u001b[0m\n\u001b[0;32m   2339\u001b[0m     \u001b[39mif\u001b[39;00m yerr \u001b[39mis\u001b[39;00m \u001b[39mnot\u001b[39;00m \u001b[39mNone\u001b[39;00m:\n\u001b[0;32m   2340\u001b[0m         yerr \u001b[39m=\u001b[39m \u001b[39mself\u001b[39m\u001b[39m.\u001b[39m_convert_dx(yerr, y0, y, \u001b[39mself\u001b[39m\u001b[39m.\u001b[39mconvert_yunits)\n\u001b[1;32m-> 2342\u001b[0m x, height, width, y, linewidth, hatch \u001b[39m=\u001b[39m np\u001b[39m.\u001b[39;49mbroadcast_arrays(\n\u001b[0;32m   2343\u001b[0m     \u001b[39m# Make args iterable too.\u001b[39;49;00m\n\u001b[0;32m   2344\u001b[0m     np\u001b[39m.\u001b[39;49matleast_1d(x), height, width, y, linewidth, hatch)\n\u001b[0;32m   2346\u001b[0m \u001b[39m# Now that units have been converted, set the tick locations.\u001b[39;00m\n\u001b[0;32m   2347\u001b[0m \u001b[39mif\u001b[39;00m orientation \u001b[39m==\u001b[39m \u001b[39m'\u001b[39m\u001b[39mvertical\u001b[39m\u001b[39m'\u001b[39m:\n",
      "File \u001b[1;32m<__array_function__ internals>:5\u001b[0m, in \u001b[0;36mbroadcast_arrays\u001b[1;34m(*args, **kwargs)\u001b[0m\n",
      "File \u001b[1;32mc:\\Users\\kodom\\anaconda3\\lib\\site-packages\\numpy\\lib\\stride_tricks.py:538\u001b[0m, in \u001b[0;36mbroadcast_arrays\u001b[1;34m(subok, *args)\u001b[0m\n\u001b[0;32m    531\u001b[0m \u001b[39m# nditer is not used here to avoid the limit of 32 arrays.\u001b[39;00m\n\u001b[0;32m    532\u001b[0m \u001b[39m# Otherwise, something like the following one-liner would suffice:\u001b[39;00m\n\u001b[0;32m    533\u001b[0m \u001b[39m# return np.nditer(args, flags=['multi_index', 'zerosize_ok'],\u001b[39;00m\n\u001b[0;32m    534\u001b[0m \u001b[39m#                  order='C').itviews\u001b[39;00m\n\u001b[0;32m    536\u001b[0m args \u001b[39m=\u001b[39m [np\u001b[39m.\u001b[39marray(_m, copy\u001b[39m=\u001b[39m\u001b[39mFalse\u001b[39;00m, subok\u001b[39m=\u001b[39msubok) \u001b[39mfor\u001b[39;00m _m \u001b[39min\u001b[39;00m args]\n\u001b[1;32m--> 538\u001b[0m shape \u001b[39m=\u001b[39m _broadcast_shape(\u001b[39m*\u001b[39;49margs)\n\u001b[0;32m    540\u001b[0m \u001b[39mif\u001b[39;00m \u001b[39mall\u001b[39m(array\u001b[39m.\u001b[39mshape \u001b[39m==\u001b[39m shape \u001b[39mfor\u001b[39;00m array \u001b[39min\u001b[39;00m args):\n\u001b[0;32m    541\u001b[0m     \u001b[39m# Common case where nothing needs to be broadcasted.\u001b[39;00m\n\u001b[0;32m    542\u001b[0m     \u001b[39mreturn\u001b[39;00m args\n",
      "File \u001b[1;32mc:\\Users\\kodom\\anaconda3\\lib\\site-packages\\numpy\\lib\\stride_tricks.py:420\u001b[0m, in \u001b[0;36m_broadcast_shape\u001b[1;34m(*args)\u001b[0m\n\u001b[0;32m    415\u001b[0m \u001b[39m\"\"\"Returns the shape of the arrays that would result from broadcasting the\u001b[39;00m\n\u001b[0;32m    416\u001b[0m \u001b[39msupplied arrays against each other.\u001b[39;00m\n\u001b[0;32m    417\u001b[0m \u001b[39m\"\"\"\u001b[39;00m\n\u001b[0;32m    418\u001b[0m \u001b[39m# use the old-iterator because np.nditer does not handle size 0 arrays\u001b[39;00m\n\u001b[0;32m    419\u001b[0m \u001b[39m# consistently\u001b[39;00m\n\u001b[1;32m--> 420\u001b[0m b \u001b[39m=\u001b[39m np\u001b[39m.\u001b[39;49mbroadcast(\u001b[39m*\u001b[39;49margs[:\u001b[39m32\u001b[39;49m])\n\u001b[0;32m    421\u001b[0m \u001b[39m# unfortunately, it cannot handle 32 or more arguments directly\u001b[39;00m\n\u001b[0;32m    422\u001b[0m \u001b[39mfor\u001b[39;00m pos \u001b[39min\u001b[39;00m \u001b[39mrange\u001b[39m(\u001b[39m32\u001b[39m, \u001b[39mlen\u001b[39m(args), \u001b[39m31\u001b[39m):\n\u001b[0;32m    423\u001b[0m     \u001b[39m# ironically, np.broadcast does not properly handle np.broadcast\u001b[39;00m\n\u001b[0;32m    424\u001b[0m     \u001b[39m# objects (it treats them as scalars)\u001b[39;00m\n\u001b[0;32m    425\u001b[0m     \u001b[39m# use broadcasting to avoid allocating the full array\u001b[39;00m\n",
      "\u001b[1;31mValueError\u001b[0m: shape mismatch: objects cannot be broadcast to a single shape"
     ]
    },
    {
     "data": {
      "image/png": "[encoded data removed]",
      "text/plain": [
       "<Figure size 432x288 with 1 Axes>"
      ]
     },
     "metadata": {
      "needs_background": "light"
     },
     "output_type": "display_data"
    }
   ],
   "source": [
    "\n",
    "avg_pass = df.groupby('team').passing_yards.mean()\n",
    "avg_pass\n",
    "avg_rush = df.groupby('team').rushing_yards.mean()\n",
    "avg_rush\n",
    "\n",
    "fig, ax = plt.subplots()\n",
    "\n",
    "ax.bar(avg_pass)\n",
    "ax.bar(avg_rush,)\n",
    "\n",
    "ax.set_ylabel('Yards')\n",
    "ax.set_title('Average Passing and Rushing Yards')\n",
    "ax.legend\n",
    "\n",
    "plt.show"
   ]
  },
  {
   "cell_type": "markdown",
   "metadata": {},
   "source": [
    "4. Plot the average total yards vs average first downs for each team on a scatter plot (with first downs on the x axis and total yards on the y axis)."
   ]
  },
  {
   "cell_type": "code",
   "execution_count": 218,
   "metadata": {},
   "outputs": [
    {
     "data": {
      "image/png": "[encoded data removed]",
      "text/plain": [
       "<Figure size 432x288 with 1 Axes>"
      ]
     },
     "metadata": {
      "needs_background": "light"
     },
     "output_type": "display_data"
    }
   ],
   "source": [
    "yards = df.groupby(\"team\").total_yards.mean()\n",
    "yards\n",
    "first_down = df.groupby(\"team\").first_downs.mean()\n",
    "first_down\n",
    "plt.scatter(first_down, yards)\n",
    "plt.title(\"Avg Total Yards vs. Avg First Downs\")\n",
    "plt.xlabel(\"first downs\")\n",
    "plt.ylabel(\"total yards\")\n",
    "plt.show()"
   ]
  },
  {
   "cell_type": "markdown",
   "metadata": {},
   "source": [
    "5. Plot the penalty yards for the Balitmore Ravens and the LA Rams for each week as a line chart (with week on the x-axis and penalty yards on the y-axis)."
   ]
  },
  {
   "cell_type": "code",
   "execution_count": null,
   "metadata": {},
   "outputs": [
    {
     "ename": "NameError",
     "evalue": "name 'score' is not defined",
     "output_type": "error",
     "traceback": [
      "\u001b[1;31m---------------------------------------------------------------------------\u001b[0m",
      "\u001b[1;31mNameError\u001b[0m                                 Traceback (most recent call last)",
      "\u001b[1;32mc:\\Users\\kodom\\OneDrive\\Documents\\Data Analytics\\cis277-fa22-Lab5\\Lab5.ipynb Cell 17\u001b[0m in \u001b[0;36m<cell line: 8>\u001b[1;34m()\u001b[0m\n\u001b[0;32m      <a href='vscode-notebook-cell:/c%3A/Users/kodom/OneDrive/Documents/Data%20Analytics/cis277-fa22-Lab5/Lab5.ipynb#X21sZmlsZQ%3D%3D?line=4'>5</a>\u001b[0m team_two \u001b[39m=\u001b[39m nfl_team[nfl_team\u001b[39m.\u001b[39mName \u001b[39m==\u001b[39m \u001b[39m\"\u001b[39m\u001b[39mLA Rams\u001b[39m\u001b[39m\"\u001b[39m]\n\u001b[0;32m      <a href='vscode-notebook-cell:/c%3A/Users/kodom/OneDrive/Documents/Data%20Analytics/cis277-fa22-Lab5/Lab5.ipynb#X21sZmlsZQ%3D%3D?line=5'>6</a>\u001b[0m \u001b[39m#nfl_team.set_index(['name']).plot()\u001b[39;00m\n\u001b[1;32m----> <a href='vscode-notebook-cell:/c%3A/Users/kodom/OneDrive/Documents/Data%20Analytics/cis277-fa22-Lab5/Lab5.ipynb#X21sZmlsZQ%3D%3D?line=7'>8</a>\u001b[0m nfl_team\u001b[39m.\u001b[39mplot(kind\u001b[39m=\u001b[39m\u001b[39m'\u001b[39m\u001b[39mline\u001b[39m\u001b[39m'\u001b[39m,x\u001b[39m=\u001b[39mteam_one, y\u001b[39m=\u001b[39mscore, color\u001b[39m=\u001b[39m\u001b[39m'\u001b[39m\u001b[39mblue\u001b[39m\u001b[39m'\u001b[39m)\n\u001b[0;32m      <a href='vscode-notebook-cell:/c%3A/Users/kodom/OneDrive/Documents/Data%20Analytics/cis277-fa22-Lab5/Lab5.ipynb#X21sZmlsZQ%3D%3D?line=8'>9</a>\u001b[0m nfl_team\u001b[39m.\u001b[39mplot(kind\u001b[39m=\u001b[39m\u001b[39m'\u001b[39m\u001b[39mline\u001b[39m\u001b[39m'\u001b[39m, x\u001b[39m=\u001b[39m\u001b[39m'\u001b[39m\u001b[39mteam_two\u001b[39m\u001b[39m'\u001b[39m, y\u001b[39m=\u001b[39m\u001b[39m'\u001b[39m\u001b[39mpenalty_yards\u001b[39m\u001b[39m'\u001b[39m, color\u001b[39m=\u001b[39m\u001b[39m'\u001b[39m\u001b[39mred\u001b[39m\u001b[39m'\u001b[39m)\n",
      "\u001b[1;31mNameError\u001b[0m: name 'score' is not defined"
     ]
    }
   ],
   "source": [
    "#pen_yar = nfl_team[(nfl_team.Name == \"Balitmore Ravens\") & (nfl_team.Name == \"LA Rams\")]\n",
    "#pen_yar.penalty_yards.sum()\n",
    "\n",
    "team_one = df[df.team == \"Baltimore Ravens\"]\n",
    "team_two = df[df.team == \"LA Rams\"]\n",
    "#nfl_team.set_index(['name']).plot()\n",
    "\n",
    "nfl_team.plot(kind='line',x=team_one, y=score, color='blue')\n",
    "nfl_team.plot(kind='line', x='team_two', y='penalty_yards', color='red')\n"
   ]
  },
  {
   "cell_type": "markdown",
   "metadata": {},
   "source": [
    "6. Plot the average total points vs average yards per play for each team as a scatter plot (with total points on the y-axis and yards per play on the x-axis)."
   ]
  },
  {
   "cell_type": "code",
   "execution_count": 222,
   "metadata": {},
   "outputs": [
    {
     "data": {
      "image/png": "[encoded data removed]",
      "text/plain": [
       "<Figure size 432x288 with 1 Axes>"
      ]
     },
     "metadata": {
      "needs_background": "light"
     },
     "output_type": "display_data"
    }
   ],
   "source": [
    "avg_yar = df.groupby(\"team\").yards_per_play.mean()\n",
    "avg_yar\n",
    "\n",
    "tot_pt = df.groupby(\"team\").points_scored.mean()\n",
    "tot_pt\n",
    "\n",
    "plt.scatter(avg_yar, tot_pt)\n",
    "plt.title(\"Avg Total Points vs. Avg Yards Per Play\")\n",
    "plt.xlabel(\"yards per play\")\n",
    "plt.ylabel(\"total points\")\n",
    "plt.show()"
   ]
  },
  {
   "cell_type": "markdown",
   "metadata": {},
   "source": [
    "7. Plot the number of penalty yards for each team in the NFC West for each week on bar chart."
   ]
  },
  {
   "cell_type": "code",
   "execution_count": 225,
   "metadata": {},
   "outputs": [
    {
     "data": {
      "text/plain": [
       "<bound method IndexOpsMixin.value_counts of 12      Arizona Cardinals\n",
       "14       Los Angeles Rams\n",
       "27       Seattle Seahawks\n",
       "28    San Francisco 49ers\n",
       "42       Seattle Seahawks\n",
       "45      Arizona Cardinals\n",
       "59    San Francisco 49ers\n",
       "60       Los Angeles Rams\n",
       "70       Seattle Seahawks\n",
       "79    San Francisco 49ers\n",
       "81      Arizona Cardinals\n",
       "92       Los Angeles Rams\n",
       "Name: team, dtype: object>"
      ]
     },
     "execution_count": 225,
     "metadata": {},
     "output_type": "execute_result"
    }
   ],
   "source": [
    "mask = (\n",
    "    (df.Conference == \"NFC\") & \n",
    "    (df.Division == \"West\")\n",
    ")\n",
    "mask\n",
    "df[mask].team.value_counts"
   ]
  },
  {
   "cell_type": "code",
   "execution_count": 229,
   "metadata": {},
   "outputs": [
    {
     "data": {
      "image/png": "[encoded data removed]",
      "text/plain": [
       "<Figure size 432x288 with 1 Axes>"
      ]
     },
     "metadata": {
      "needs_background": "light"
     },
     "output_type": "display_data"
    }
   ],
   "source": [
    "mask = (\n",
    "    (df.Conference == \"NFC\") & \n",
    "    (df.Division == \"West\")\n",
    ")\n",
    "mask\n",
    "answer = df[mask].team.value_counts\n",
    "score = df[mask].penalty_yards.sum()\n",
    "score\n",
    "\n",
    "plt.bar(mask, score)\n",
    "plt.title(\"Average number of Points\")\n",
    "plt.show()\n",
    "#we = nfl_team.week\n",
    "#we\n",
    "#plt.bar(nfl_team.week, score)\n",
    "#plt.title(\"Penalty Yards\")\n",
    "#plt.xlabel(\"\")\n",
    "#plt.ylabel(\"\")\n",
    "#plt.show()"
   ]
  },
  {
   "cell_type": "markdown",
   "metadata": {},
   "source": [
    "8. Plot the average number of weekly points per (conference and division) on a horizontal bar chart. (There will be 8 bars.)"
   ]
  },
  {
   "cell_type": "code",
   "execution_count": null,
   "metadata": {},
   "outputs": [
    {
     "data": {
      "image/png": "[encoded data removed]",
      "text/plain": [
       "<Figure size 864x864 with 1 Axes>"
      ]
     },
     "metadata": {
      "needs_background": "light"
     },
     "output_type": "display_data"
    }
   ],
   "source": [
    "add = nfl_team.points_scored.sum()\n",
    "plt.figure(figsize=(12, 12))\n",
    "plt.barh(nfl_team.Name,nfl_team.ID)\n",
    "plt.title(\"Average number of Points\")\n",
    "plt.xlabel(\"Average\")\n",
    "plt.ylabel(\"Teams\")\n",
    "plt.show()"
   ]
  }
 ],
 "metadata": {
  "kernelspec": {
   "display_name": "Python 3.9.12 ('base')",
   "language": "python",
   "name": "python3"
  },
  "language_info": {
   "codemirror_mode": {
    "name": "ipython",
    "version": 3
   },
   "file_extension": ".py",
   "mimetype": "text/x-python",
   "name": "python",
   "nbconvert_exporter": "python",
   "pygments_lexer": "ipython3",
   "version": "3.9.12"
  },
  "orig_nbformat": 4,
  "vscode": {
   "interpreter": {
    "hash": "44e683781f8e40e3eb7fe1662972c59cc4a4fec9187a03146bb2a87b4d81cf31"
   }
  }
 },
 "nbformat": 4,
 "nbformat_minor": 2
}
